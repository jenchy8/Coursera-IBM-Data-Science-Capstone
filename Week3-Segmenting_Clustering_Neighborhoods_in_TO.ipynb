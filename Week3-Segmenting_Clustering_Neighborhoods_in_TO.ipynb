{
    "cells": [
        {
            "cell_type": "markdown",
            "metadata": {
                "collapsed": true
            },
            "source": "<h1 align=\"center\">Segmenting and Clustering Neighborhoods in Toronto</h1>"
        },
        {
            "cell_type": "markdown",
            "metadata": {},
            "source": "<h2>Part 1 - Scrape Wikipedia and create Postal Code dataframe</h2>"
        },
        {
            "cell_type": "markdown",
            "metadata": {},
            "source": "<p>Before getting data and start exploring it, download all dependencies that will be needed.</p>"
        },
        {
            "cell_type": "code",
            "execution_count": null,
            "metadata": {},
            "outputs": [
                {
                    "name": "stdout",
                    "output_type": "stream",
                    "text": "Solving environment: / "
                }
            ],
            "source": "import numpy as np # library to handle data in a vectorized manner\n\nimport pandas as pd # library for data analsysis\npd.set_option('display.max_columns', None)\npd.set_option('display.max_rows', None)\n\nimport json # library to handle JSON files\n\n#!conda install -c conda-forge geopy --yes # uncomment this line if you haven't completed the Foursquare API lab\nfrom geopy.geocoders import Nominatim # convert an address into latitude and longitude values\n\nimport requests # library to handle requests\nfrom pandas.io.json import json_normalize # tranform JSON file into a pandas dataframe\n\n# Matplotlib and associated plotting modules\nimport matplotlib.cm as cm\nimport matplotlib.colors as colors\n\n# import k-means from clustering stage\nfrom sklearn.cluster import KMeans\n\n#!conda install -c conda-forge folium=0.5.0 --yes # uncomment this line if you haven't completed the Foursquare API lab\nimport folium # map rendering library\n\n!conda install -c anaconda beautifulsoup4\nfrom bs4 import BeautifulSoup # library to scrape websites\n\nprint('Libraries imported.')"
        },
        {
            "cell_type": "markdown",
            "metadata": {},
            "source": "<h3>Scrape wikipedia to get postal code content</h3>"
        },
        {
            "cell_type": "code",
            "execution_count": null,
            "metadata": {},
            "outputs": [],
            "source": "res = requests.get('https://en.wikipedia.org/wiki/List_of_postal_codes_of_Canada:_M').text\nsoup = BeautifulSoup(website_url, 'lxml')\nmy_table = soup.find('table',{'class':'wikitable'})\n    \npostalCode=[]\nborough=[]\nneighborhood=[]\nfor row in my_table.findAll('tr'):\n    cells = row.findAll('td')\n    if len(cells)==3:\n        postalCode.append(cells[0].find(text=True))\n        borough.append(cells[1].find(text=True))\n        neighborhood.append(cells[2].find(text=True))      "
        },
        {
            "cell_type": "markdown",
            "metadata": {},
            "source": "<h3>Cleanse the data</h3>"
        },
        {
            "cell_type": "code",
            "execution_count": null,
            "metadata": {},
            "outputs": [],
            "source": "df = pd.DataFrame(columns=['PostalCode', 'Borough', 'Neighborhood'])\ndf['PostalCode'] = postalCode\ndf['Borough'] = borough\ndf['Neighborhood'] = neighborhood\n\n# Ignore cells with a borough that is Not assigned\ndf = df[df['Borough' != 'Not assigned']]\n\n# Combine rows with same PostalCode, separate neighborhoods by comma\ndf.groupby(['PostalCode', 'Borough'])['Neighborhood'].apply(','.join).reset_index()\n\n# If cell has a borough but neighborhood is Not Assigned, set Neighborhood to be same as the borough.\ndf['Neighborhood'] = np.where(df['Borough'] != '' and df['Neighborhood'] == 'Not assigned', df['Borough'], df['Neighborhood'])\n\n# Print shape of dataframe\ndf.shape"
        }
    ],
    "metadata": {
        "kernelspec": {
            "display_name": "Python 3.6",
            "language": "python",
            "name": "python3"
        },
        "language_info": {
            "codemirror_mode": {
                "name": "ipython",
                "version": 3
            },
            "file_extension": ".py",
            "mimetype": "text/x-python",
            "name": "python",
            "nbconvert_exporter": "python",
            "pygments_lexer": "ipython3",
            "version": "3.6.9"
        }
    },
    "nbformat": 4,
    "nbformat_minor": 1
}